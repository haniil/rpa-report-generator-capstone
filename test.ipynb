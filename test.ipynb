{
 "cells": [
  {
   "cell_type": "code",
   "execution_count": 4,
   "id": "44c58e49",
   "metadata": {},
   "outputs": [],
   "source": [
    "from ShiningPebbles import *"
   ]
  },
  {
   "cell_type": "code",
   "execution_count": 3,
   "id": "3707fce7",
   "metadata": {},
   "outputs": [
    {
     "data": {
      "text/plain": [
       "'2023-11-24'"
      ]
     },
     "execution_count": 3,
     "metadata": {},
     "output_type": "execute_result"
    }
   ],
   "source": [
    "ShiningPebbles.get_today()"
   ]
  },
  {
   "cell_type": "code",
   "execution_count": 5,
   "id": "58f99a47",
   "metadata": {
    "scrolled": true
   },
   "outputs": [
    {
     "data": {
      "text/plain": [
       "'2023-11-24'"
      ]
     },
     "execution_count": 5,
     "metadata": {},
     "output_type": "execute_result"
    }
   ],
   "source": [
    "get_today()"
   ]
  },
  {
   "cell_type": "code",
   "execution_count": 9,
   "id": "66e82ec2",
   "metadata": {},
   "outputs": [],
   "source": [
    "class M8186:\n",
    "    def __init__(self, fund_code, menu_code = '8186'):\n",
    "        self.fund_code = fund_code\n",
    "        self.menu_code = menu_code\n",
    "        \n",
    "class M2820:\n",
    "    def __init__(self, fund_code,start_date, end_date, menu_code = '2820'):\n",
    "        self.fund_code = fund_code\n",
    "        self.start_date = start_date\n",
    "        self.end_date = end_date\n",
    "        self.menu_code = menu_code\n",
    "\n"
   ]
  },
  {
   "cell_type": "code",
   "execution_count": 10,
   "id": "a7aca7fa",
   "metadata": {},
   "outputs": [],
   "source": [
    "m = M8186(fund_code= 'A00001')"
   ]
  },
  {
   "cell_type": "code",
   "execution_count": 11,
   "id": "92ce71ee",
   "metadata": {},
   "outputs": [
    {
     "data": {
      "text/plain": [
       "'A00001'"
      ]
     },
     "execution_count": 11,
     "metadata": {},
     "output_type": "execute_result"
    }
   ],
   "source": [
    "m.fund_code"
   ]
  },
  {
   "cell_type": "code",
   "execution_count": null,
   "id": "4aa809bf",
   "metadata": {},
   "outputs": [],
   "source": []
  }
 ],
 "metadata": {
  "kernelspec": {
   "display_name": "Python 3 (ipykernel)",
   "language": "python",
   "name": "python3"
  },
  "language_info": {
   "codemirror_mode": {
    "name": "ipython",
    "version": 3
   },
   "file_extension": ".py",
   "mimetype": "text/x-python",
   "name": "python",
   "nbconvert_exporter": "python",
   "pygments_lexer": "ipython3",
   "version": "3.10.9"
  }
 },
 "nbformat": 4,
 "nbformat_minor": 5
}
